{
 "cells": [
  {
   "cell_type": "markdown",
   "id": "6e18f444",
   "metadata": {},
   "source": [
    "# Heading 1\n",
    "## Heading 2\n",
    "### Heading 3\n",
    "#### Heading 4"
   ]
  },
  {
   "cell_type": "markdown",
   "id": "b5f50fea",
   "metadata": {},
   "source": [
    "<h1>Heading 1 - html</h1>"
   ]
  },
  {
   "cell_type": "markdown",
   "id": "e683cf1b",
   "metadata": {},
   "source": [
    "<h4>Hello"
   ]
  },
  {
   "cell_type": "markdown",
   "id": "3c18b961",
   "metadata": {},
   "source": [
    "**Hello** I am Umang"
   ]
  },
  {
   "cell_type": "markdown",
   "id": "ebb66b2c",
   "metadata": {},
   "source": [
    "*Hello* I am Umang"
   ]
  },
  {
   "cell_type": "markdown",
   "id": "3258e3b8",
   "metadata": {},
   "source": [
    "1. Item 1\n",
    "2. Item 2\n",
    "3. Item 3"
   ]
  },
  {
   "cell_type": "markdown",
   "id": "459b152a",
   "metadata": {},
   "source": [
    "To Do:\n",
    "* Shopping\n",
    "* Cooking\n",
    "+ Cleaning\n",
    "- Sleeping"
   ]
  },
  {
   "cell_type": "markdown",
   "id": "e65327ae",
   "metadata": {},
   "source": [
    "[YAHOO](https://yahoo.com) - Where I can check Mail"
   ]
  },
  {
   "cell_type": "markdown",
   "id": "01102cd8",
   "metadata": {},
   "source": [
    "def f(x):\n",
    "    \"\"\"a docstring\"\"\"\n",
    "    return x**2"
   ]
  },
  {
   "cell_type": "code",
   "execution_count": null,
   "id": "3d6abfbf",
   "metadata": {},
   "outputs": [],
   "source": []
  }
 ],
 "metadata": {
  "kernelspec": {
   "display_name": "Python 3 (ipykernel)",
   "language": "python",
   "name": "python3"
  },
  "language_info": {
   "codemirror_mode": {
    "name": "ipython",
    "version": 3
   },
   "file_extension": ".py",
   "mimetype": "text/x-python",
   "name": "python",
   "nbconvert_exporter": "python",
   "pygments_lexer": "ipython3",
   "version": "3.9.7"
  }
 },
 "nbformat": 4,
 "nbformat_minor": 5
}
