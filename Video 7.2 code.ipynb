{
 "cells": [
  {
   "cell_type": "code",
   "execution_count": 1,
   "metadata": {
    "colab": {
     "base_uri": "https://localhost:8080/",
     "height": 300
    },
    "executionInfo": {
     "elapsed": 446,
     "status": "ok",
     "timestamp": 1641839894825,
     "user": {
      "displayName": "Jessica Cervi",
      "photoUrl": "https://lh3.googleusercontent.com/a-/AOh14GgjfO4C_Hq2VaZB8cT8teoqb8_8Sxq486LcxviJgg=s64",
      "userId": "17758443524817632383"
     },
     "user_tz": 360
    },
    "id": "Dyx6V7LDSBZp",
    "outputId": "06e101e6-707d-4f12-ded5-579ecc067314"
   },
   "outputs": [
    {
     "data": {
      "text/plain": [
       "<matplotlib.legend.Legend at 0x1d93c823d00>"
      ]
     },
     "execution_count": 1,
     "metadata": {},
     "output_type": "execute_result"
    },
    {
     "data": {
      "image/png": "[encoded data removed]",
      "text/plain": [
       "<Figure size 432x288 with 1 Axes>"
      ]
     },
     "metadata": {
      "needs_background": "light"
     },
     "output_type": "display_data"
    }
   ],
   "source": [
    "import numpy as np\n",
    "import matplotlib.pyplot as plt\n",
    "\n",
    "population = np.array([5, 4, 4, 9, 9, 8, 2, 0, 3, 6])\n",
    "sample = np.array([5, 4, 4, 8, 6])\n",
    "\n",
    "def variance(sample, mean, bias):\n",
    "    N = len(sample)\n",
    "    s2 = 0\n",
    "    for i in range(0,N):\n",
    "        x = sample[i]-mean\n",
    "        s2 = s2 + (x * x) \n",
    "    var = s2/(N - bias)\n",
    "    return var\n",
    "\n",
    "N = 10\n",
    "\n",
    "var_pop = []\n",
    "var_sample = []\n",
    "\n",
    "for mean in range(0,N):   # shift the mean from 0 to N\n",
    "    var_pop.append( variance(population, mean, 0))\n",
    "\n",
    "for mean in range(0,N):   # shift the mean from 0 to N\n",
    "    var_sample.append( variance(sample, mean, 1))\n",
    "# Plotting\n",
    "plt.scatter(range(N),var_pop,color='b', label='Population')\n",
    "\n",
    "plt.scatter(range(N),var_sample,color='r', label='Sample')\n",
    "plt.ylim([0, 50])\n",
    "plt.ylabel('Variance')\n",
    "plt.xlabel('Mean')\n",
    "plt.legend(loc='upper right')"
   ]
  },
  {
   "cell_type": "code",
   "execution_count": 2,
   "metadata": {
    "id": "qIDtDjJTSCbs"
   },
   "outputs": [
    {
     "data": {
      "text/plain": [
       "[39.25, 27.0, 17.25, 10.0, 5.25, 3.0, 3.25, 6.0, 11.25, 19.0]"
      ]
     },
     "execution_count": 2,
     "metadata": {},
     "output_type": "execute_result"
    }
   ],
   "source": [
    "var_sample"
   ]
  },
  {
   "cell_type": "code",
   "execution_count": 5,
   "metadata": {},
   "outputs": [
    {
     "data": {
      "text/plain": [
       "[33.2, 24.2, 17.2, 12.2, 9.2, 8.2, 9.2, 12.2, 17.2, 24.2]"
      ]
     },
     "execution_count": 5,
     "metadata": {},
     "output_type": "execute_result"
    }
   ],
   "source": [
    "var_pop"
   ]
  },
  {
   "cell_type": "code",
   "execution_count": null,
   "metadata": {},
   "outputs": [],
   "source": []
  }
 ],
 "metadata": {
  "colab": {
   "collapsed_sections": [],
   "name": "Video 7.2 code.ipynb",
   "provenance": []
  },
  "kernelspec": {
   "display_name": "Python 3 (ipykernel)",
   "language": "python",
   "name": "python3"
  },
  "language_info": {
   "codemirror_mode": {
    "name": "ipython",
    "version": 3
   },
   "file_extension": ".py",
   "mimetype": "text/x-python",
   "name": "python",
   "nbconvert_exporter": "python",
   "pygments_lexer": "ipython3",
   "version": "3.9.7"
  }
 },
 "nbformat": 4,
 "nbformat_minor": 1
}
