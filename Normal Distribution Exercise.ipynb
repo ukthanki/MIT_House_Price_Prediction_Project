{
 "cells": [
  {
   "cell_type": "code",
   "execution_count": 48,
   "id": "eb3bb08e",
   "metadata": {},
   "outputs": [],
   "source": [
    "import numpy as np\n",
    "import pandas as pd"
   ]
  },
  {
   "cell_type": "code",
   "execution_count": 49,
   "id": "e7c2514a",
   "metadata": {},
   "outputs": [],
   "source": [
    "sample = [76, 64, 62, 81, 70, 72, 81, 63, 67, 77]"
   ]
  },
  {
   "cell_type": "code",
   "execution_count": 50,
   "id": "20fb5ad1",
   "metadata": {},
   "outputs": [
    {
     "name": "stdout",
     "output_type": "stream",
     "text": [
      "The Mean of the sample is 71.3.\n",
      "The Unbiased Variance of the sample is 52.46.\n",
      "The Standard Deviation of the sample is 7.24.\n"
     ]
    }
   ],
   "source": [
    "print(f\"The Mean of the sample is {np.mean(sample)}.\")\n",
    "print(f\"The Unbiased Variance of the sample is {np.var(sample, ddof=1).round(2)}.\")\n",
    "print(f\"The Standard Deviation of the sample is {np.sqrt(np.var(sample, ddof=1)).round(2)}.\")"
   ]
  },
  {
   "cell_type": "code",
   "execution_count": 51,
   "id": "189bddee",
   "metadata": {},
   "outputs": [],
   "source": [
    "data = pd.Series(sample)"
   ]
  },
  {
   "cell_type": "code",
   "execution_count": 52,
   "id": "e8813a17",
   "metadata": {},
   "outputs": [],
   "source": [
    "df = pd.DataFrame(data, columns = [\"Blood Pressure\"])\n"
   ]
  },
  {
   "cell_type": "code",
   "execution_count": 53,
   "id": "70eb5bae",
   "metadata": {},
   "outputs": [],
   "source": [
    "df = pd.DataFrame(data, columns = [\"Blood Pressure\"])\n",
    "df[\"Deviation From Mean\"] = df[\"Blood Pressure\"] - np.mean(df[\"Blood Pressure\"])\n",
    "df[\"Square Deviation\"] = df[\"Deviation From Mean\"]**2"
   ]
  },
  {
   "cell_type": "code",
   "execution_count": 54,
   "id": "7432f43d",
   "metadata": {},
   "outputs": [
    {
     "data": {
      "text/html": [
       "<div>\n",
       "<style scoped>\n",
       "    .dataframe tbody tr th:only-of-type {\n",
       "        vertical-align: middle;\n",
       "    }\n",
       "\n",
       "    .dataframe tbody tr th {\n",
       "        vertical-align: top;\n",
       "    }\n",
       "\n",
       "    .dataframe thead th {\n",
       "        text-align: right;\n",
       "    }\n",
       "</style>\n",
       "<table border=\"1\" class=\"dataframe\">\n",
       "  <thead>\n",
       "    <tr style=\"text-align: right;\">\n",
       "      <th></th>\n",
       "      <th>Blood Pressure</th>\n",
       "      <th>Deviation From Mean</th>\n",
       "      <th>Square Deviation</th>\n",
       "    </tr>\n",
       "  </thead>\n",
       "  <tbody>\n",
       "    <tr>\n",
       "      <th>0</th>\n",
       "      <td>76</td>\n",
       "      <td>4.7</td>\n",
       "      <td>22.09</td>\n",
       "    </tr>\n",
       "    <tr>\n",
       "      <th>1</th>\n",
       "      <td>64</td>\n",
       "      <td>-7.3</td>\n",
       "      <td>53.29</td>\n",
       "    </tr>\n",
       "    <tr>\n",
       "      <th>2</th>\n",
       "      <td>62</td>\n",
       "      <td>-9.3</td>\n",
       "      <td>86.49</td>\n",
       "    </tr>\n",
       "    <tr>\n",
       "      <th>3</th>\n",
       "      <td>81</td>\n",
       "      <td>9.7</td>\n",
       "      <td>94.09</td>\n",
       "    </tr>\n",
       "    <tr>\n",
       "      <th>4</th>\n",
       "      <td>70</td>\n",
       "      <td>-1.3</td>\n",
       "      <td>1.69</td>\n",
       "    </tr>\n",
       "    <tr>\n",
       "      <th>5</th>\n",
       "      <td>72</td>\n",
       "      <td>0.7</td>\n",
       "      <td>0.49</td>\n",
       "    </tr>\n",
       "    <tr>\n",
       "      <th>6</th>\n",
       "      <td>81</td>\n",
       "      <td>9.7</td>\n",
       "      <td>94.09</td>\n",
       "    </tr>\n",
       "    <tr>\n",
       "      <th>7</th>\n",
       "      <td>63</td>\n",
       "      <td>-8.3</td>\n",
       "      <td>68.89</td>\n",
       "    </tr>\n",
       "    <tr>\n",
       "      <th>8</th>\n",
       "      <td>67</td>\n",
       "      <td>-4.3</td>\n",
       "      <td>18.49</td>\n",
       "    </tr>\n",
       "    <tr>\n",
       "      <th>9</th>\n",
       "      <td>77</td>\n",
       "      <td>5.7</td>\n",
       "      <td>32.49</td>\n",
       "    </tr>\n",
       "  </tbody>\n",
       "</table>\n",
       "</div>"
      ],
      "text/plain": [
       "   Blood Pressure  Deviation From Mean  Square Deviation\n",
       "0              76                  4.7             22.09\n",
       "1              64                 -7.3             53.29\n",
       "2              62                 -9.3             86.49\n",
       "3              81                  9.7             94.09\n",
       "4              70                 -1.3              1.69\n",
       "5              72                  0.7              0.49\n",
       "6              81                  9.7             94.09\n",
       "7              63                 -8.3             68.89\n",
       "8              67                 -4.3             18.49\n",
       "9              77                  5.7             32.49"
      ]
     },
     "execution_count": 54,
     "metadata": {},
     "output_type": "execute_result"
    }
   ],
   "source": [
    "df"
   ]
  },
  {
   "cell_type": "code",
   "execution_count": null,
   "id": "dbf32cfc",
   "metadata": {},
   "outputs": [],
   "source": []
  }
 ],
 "metadata": {
  "kernelspec": {
   "display_name": "Python 3 (ipykernel)",
   "language": "python",
   "name": "python3"
  },
  "language_info": {
   "codemirror_mode": {
    "name": "ipython",
    "version": 3
   },
   "file_extension": ".py",
   "mimetype": "text/x-python",
   "name": "python",
   "nbconvert_exporter": "python",
   "pygments_lexer": "ipython3",
   "version": "3.9.7"
  }
 },
 "nbformat": 4,
 "nbformat_minor": 5
}
